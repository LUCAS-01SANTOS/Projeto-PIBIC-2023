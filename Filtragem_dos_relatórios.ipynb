{
  "nbformat": 4,
  "nbformat_minor": 0,
  "metadata": {
    "colab": {
      "provenance": [],
      "mount_file_id": "1s0z3emK1vDI_zfH5A1wI8o6XDHCKL9-7",
      "authorship_tag": "ABX9TyO5jk5R8k+09y+8ifZRmIBA",
      "include_colab_link": true
    },
    "kernelspec": {
      "name": "python3",
      "display_name": "Python 3"
    },
    "language_info": {
      "name": "python"
    }
  },
  "cells": [
    {
      "cell_type": "markdown",
      "metadata": {
        "id": "view-in-github",
        "colab_type": "text"
      },
      "source": [
        "<a href=\"https://colab.research.google.com/github/LUCAS-01SANTOS/Projeto-PIBIC-2023/blob/main/Filtragem_dos_relat%C3%B3rios.ipynb\" target=\"_parent\"><img src=\"https://colab.research.google.com/assets/colab-badge.svg\" alt=\"Open In Colab\"/></a>"
      ]
    },
    {
      "cell_type": "markdown",
      "source": [
        "# Filtragem de textos\n",
        "\n",
        "> Projeto PIBIC - Lucas Santos\n",
        "> [GitHub](https://github.com/LUCAS-01SANTOS)"
      ],
      "metadata": {
        "id": "HdjI_J-XIK_b"
      }
    },
    {
      "cell_type": "code",
      "source": [
        "import os"
      ],
      "metadata": {
        "id": "1jEf38eu_u-5"
      },
      "execution_count": null,
      "outputs": []
    },
    {
      "cell_type": "code",
      "execution_count": null,
      "metadata": {
        "id": "AzmY8jpW_Gks"
      },
      "outputs": [],
      "source": [
        "# Caminho da pasta no Google Drive onde os arquivos estão localizados\n",
        "pasta_google_drive = \"/content/drive/MyDrive/Projeto_PIBIC_Lucas/01_Data/02_Atividades_do_emissor_txt\""
      ]
    },
    {
      "cell_type": "code",
      "source": [
        "# Listas para armazenar os nomes dos textos\n",
        "menos_de_200_palavras = []\n",
        "mais_de_200_palavras = []"
      ],
      "metadata": {
        "id": "boqDNzJs_VyV"
      },
      "execution_count": null,
      "outputs": []
    },
    {
      "cell_type": "code",
      "source": [
        "# Percorrer os arquivos na pasta\n",
        "for nome_arquivo in os.listdir(pasta_google_drive):\n",
        "    if nome_arquivo.endswith(\".txt\"):\n",
        "        caminho_arquivo = os.path.join(pasta_google_drive, nome_arquivo)\n",
        "        with open(caminho_arquivo, \"r\") as arquivo:\n",
        "            conteudo = arquivo.read()\n",
        "            palavras = conteudo.split()\n",
        "            if len(palavras) < 200:\n",
        "                menos_de_200_palavras.append(nome_arquivo)\n",
        "            else:\n",
        "                mais_de_200_palavras.append(nome_arquivo)\n"
      ],
      "metadata": {
        "id": "avdcT9VG_fIn"
      },
      "execution_count": null,
      "outputs": []
    },
    {
      "cell_type": "code",
      "source": [
        "# Imprimir os resultados\n",
        "print(\"Textos com menos de 200 palavras:\")\n",
        "for nome in menos_de_200_palavras:\n",
        "    print(nome)"
      ],
      "metadata": {
        "colab": {
          "base_uri": "https://localhost:8080/"
        },
        "id": "RzXLKTnd_hi5",
        "outputId": "edfe71cb-66c3-4eb5-ea44-fd52c4d28774"
      },
      "execution_count": null,
      "outputs": [
        {
          "output_type": "stream",
          "name": "stdout",
          "text": [
            "Textos com menos de 200 palavras:\n",
            "CONFIANZA.txt\n",
            "NEUMARKT.txt\n",
            "NOVA ACAO.txt\n",
            "OURINVESTSEC.txt\n",
            "DINAMICA ENERGIA S.A..txt\n",
            "ALTERE SEC.txt\n",
            "AETATIS PART.txt\n",
            "HABITASEC SECURITIZADORA SA.txt\n",
            "ITAUSEG PARTICIPAÇÕES SA.txt\n",
            "BAESA.txt\n",
            "BARIGUI SEC.txt\n",
            "BGPAR.txt\n",
            "BFB LEASING.txt\n",
            "BETA SECURIT.txt\n",
            "IMIGRANTES.txt\n",
            "GAIA SECURIT.txt\n",
            "BTG PACT SEC.txt\n",
            "CEMIG GT.txt\n",
            "UNI CIDADE.txt\n",
            "UNIVERCIDADE.txt\n",
            "TC SECURITIES CIA DE SECURITIZAÇÃO.txt\n",
            "SNB PARTICIP.txt\n",
            "TACARUNA.txt\n"
          ]
        }
      ]
    },
    {
      "cell_type": "markdown",
      "source": [
        "\n",
        "\n",
        "---\n",
        "\n",
        "\n",
        "\n",
        "---\n",
        "\n"
      ],
      "metadata": {
        "id": "yALwGlBsMkJN"
      }
    },
    {
      "cell_type": "code",
      "source": [
        "!pip install regex"
      ],
      "metadata": {
        "colab": {
          "base_uri": "https://localhost:8080/"
        },
        "id": "axbXDQ-wM5wY",
        "outputId": "7cdb9f94-21cb-4d11-daa7-3b07586e0e7a"
      },
      "execution_count": null,
      "outputs": [
        {
          "output_type": "stream",
          "name": "stdout",
          "text": [
            "Looking in indexes: https://pypi.org/simple, https://us-python.pkg.dev/colab-wheels/public/simple/\n",
            "Requirement already satisfied: regex in /usr/local/lib/python3.10/dist-packages (2022.10.31)\n"
          ]
        }
      ]
    },
    {
      "cell_type": "code",
      "source": [
        "import re\n",
        "import shutil"
      ],
      "metadata": {
        "id": "H5vq9G-RMzjs"
      },
      "execution_count": null,
      "outputs": []
    },
    {
      "cell_type": "code",
      "source": [
        "# Caminho para a nova pasta onde os arquivos editados serão salvos\n",
        "nova_pasta = \"/content/drive/MyDrive/Projeto_PIBIC_Lucas/01_Data/Nova Pasta\"\n",
        "\n",
        "# Criar a nova pasta (se já existir, os arquivos serão sobrescritos)\n",
        "if not os.path.exists(nova_pasta):\n",
        "    os.makedirs(nova_pasta)\n"
      ],
      "metadata": {
        "id": "0KpMZpccMlFn"
      },
      "execution_count": null,
      "outputs": []
    },
    {
      "cell_type": "code",
      "source": [
        "# Percorrer os arquivos na pasta\n",
        "for nome_arquivo in os.listdir(pasta_google_drive):\n",
        "    if nome_arquivo.endswith(\".txt\"):\n",
        "        caminho_arquivo = os.path.join(pasta_google_drive, nome_arquivo)\n",
        "        with open(caminho_arquivo, \"r\") as arquivo:\n",
        "            conteudo = arquivo.read()\n",
        "            # Pesquisar o regex no texto\n",
        "            resultado = re.search(r'^7\\. Atividades do emissor \\/$', conteudo, re.MULTILINE)\n",
        "            if resultado:\n",
        "                # Se o regex for encontrado, remover o texto correspondente\n",
        "                texto_removido = resultado.group(0)\n",
        "                conteudo_editado = conteudo.replace(texto_removido, \"\")\n",
        "            else:\n",
        "                conteudo_editado = conteudo\n",
        "\n",
        "        # Salvar o arquivo editado na nova pasta\n",
        "        caminho_arquivo_editado = os.path.join(nova_pasta, nome_arquivo)\n",
        "        with open(caminho_arquivo_editado, \"w\") as arquivo_editado:\n",
        "            arquivo_editado.write(conteudo_editado)\n",
        "\n",
        "# Imprimir uma mensagem quando o processo estiver concluído\n",
        "print(\"Arquivos editados salvos na nova pasta.\")"
      ],
      "metadata": {
        "colab": {
          "base_uri": "https://localhost:8080/"
        },
        "id": "yEQ4bYN1MoK6",
        "outputId": "c8c89878-1fb0-4aa0-8190-259dd4a5d7ba"
      },
      "execution_count": null,
      "outputs": [
        {
          "output_type": "stream",
          "name": "stdout",
          "text": [
            "Arquivos editados salvos na nova pasta.\n"
          ]
        }
      ]
    },
    {
      "cell_type": "markdown",
      "source": [
        "\n",
        "\n",
        "---\n",
        "\n"
      ],
      "metadata": {
        "id": "4wh-sA6iay0l"
      }
    },
    {
      "cell_type": "code",
      "source": [
        "import pandas as pd"
      ],
      "metadata": {
        "id": "ki4_yy_KbcZF"
      },
      "execution_count": null,
      "outputs": []
    },
    {
      "cell_type": "code",
      "source": [
        "# Caminho da pasta no Google Drive onde os arquivos estão localizados\n",
        "pasta_google_drive = \"/content/drive/MyDrive/Projeto_PIBIC_Lucas/01_Data/03_Textos das Atividades - tratados\""
      ],
      "metadata": {
        "id": "sgITPCkPazzj"
      },
      "execution_count": null,
      "outputs": []
    },
    {
      "cell_type": "code",
      "source": [
        "lista_empresas = os.listdir(pasta_google_drive)"
      ],
      "metadata": {
        "id": "e9ezoY4ebAUB"
      },
      "execution_count": null,
      "outputs": []
    },
    {
      "cell_type": "code",
      "source": [
        "lista_empresas = pd.DataFrame(lista_empresas)"
      ],
      "metadata": {
        "id": "tdLHwqRocA8P"
      },
      "execution_count": null,
      "outputs": []
    },
    {
      "cell_type": "code",
      "source": [
        "lista_empresas.to_excel('lista_empresas.xlsx', index=False)"
      ],
      "metadata": {
        "id": "QHfQPSDCbNsG"
      },
      "execution_count": null,
      "outputs": []
    },
    {
      "cell_type": "code",
      "source": [
        "# Caminho para a pasta contendo os arquivos\n",
        "pasta = '/content/drive/MyDrive/Projeto_PIBIC_Lucas/01_Data/03_Textos das Atividades - tratados'\n",
        "\n",
        "# Lista para armazenar os nomes dos arquivos sem a extensão .txt\n",
        "nomes_arquivos = []\n",
        "\n",
        "# Itera sobre os arquivos na pasta\n",
        "for arquivo in os.listdir(pasta):\n",
        "    if arquivo.endswith('.txt'):  # Verifica se o arquivo tem a extensão .txt\n",
        "        nome_sem_extensao = os.path.splitext(arquivo)[0]  # Remove a extensão do arquivo\n",
        "        nomes_arquivos.append(nome_sem_extensao)\n",
        "\n",
        "# Cria um objeto DataFrame do pandas com a lista de nomes dos arquivos\n",
        "df = pd.DataFrame({'Nomes de Arquivos': nomes_arquivos})\n",
        "\n",
        "# Salva o DataFrame em um arquivo Excel\n",
        "df.to_excel('lista_arquivos.xlsx', index=False)"
      ],
      "metadata": {
        "id": "RPb-veT0i8uU"
      },
      "execution_count": null,
      "outputs": []
    },
    {
      "cell_type": "code",
      "source": [
        "# Lê os arquivos Excel\n",
        "df1 = pd.read_excel('/content/drive/MyDrive/lista_arquivos.xlsx')\n",
        "df2 = pd.read_excel('/content/drive/MyDrive/dbStocks.xlsx', header=0)\n",
        "\n",
        "# Obtém os valores das primeiras colunas\n",
        "valores1 = df1.iloc[:, 0].tolist()\n",
        "valores2 = df2.iloc[:, 0].tolist()\n",
        "\n",
        "# Verifica se os valores da primeira coluna do primeiro arquivo estão presentes no segundo arquivo\n",
        "valores_presentes = [valor for valor in valores1 if valor in valores2]\n",
        "print(valores_presentes)"
      ],
      "metadata": {
        "colab": {
          "base_uri": "https://localhost:8080/"
        },
        "id": "D6202BXph9Aa",
        "outputId": "92c0d68e-4539-4a70-9a10-fb95add0025e"
      },
      "execution_count": null,
      "outputs": [
        {
          "output_type": "stream",
          "name": "stdout",
          "text": [
            "['Alupar', 'BHG', 'BRF SA', 'CCR SA']\n"
          ]
        }
      ]
    }
  ]
}