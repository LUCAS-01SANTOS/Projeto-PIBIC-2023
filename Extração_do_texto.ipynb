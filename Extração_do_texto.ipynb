{
  "nbformat": 4,
  "nbformat_minor": 0,
  "metadata": {
    "colab": {
      "provenance": [],
      "gpuType": "T4",
      "authorship_tag": "ABX9TyPXMnCfSY+BPGYCCoLPNYrx",
      "include_colab_link": true
    },
    "kernelspec": {
      "name": "python3",
      "display_name": "Python 3"
    },
    "language_info": {
      "name": "python"
    },
    "gpuClass": "standard"
  },
  "cells": [
    {
      "cell_type": "markdown",
      "metadata": {
        "id": "view-in-github",
        "colab_type": "text"
      },
      "source": [
        "<a href=\"https://colab.research.google.com/github/LUCAS-01SANTOS/Projeto-PIBIC-2023/blob/main/Extra%C3%A7%C3%A3o_do_texto.ipynb\" target=\"_parent\"><img src=\"https://colab.research.google.com/assets/colab-badge.svg\" alt=\"Open In Colab\"/></a>"
      ]
    },
    {
      "cell_type": "markdown",
      "source": [
        "### Extração do texto que será utilizado, dos formulários, como atividades.txt.\n",
        "\n",
        "> Projeto PIBIC - Lucas Santos\n",
        "> [GitHub](https://github.com/LUCAS-01SANTOS)"
      ],
      "metadata": {
        "id": "iYyUmDp6nrwl"
      }
    },
    {
      "cell_type": "code",
      "execution_count": null,
      "metadata": {
        "id": "wepsvGS8EjLJ"
      },
      "outputs": [],
      "source": [
        "# Conecção com o Drive para salvar documentos.\n",
        "from google.colab import drive\n",
        "from google.colab import auth\n",
        "auth.authenticate_user()\n",
        "from googleapiclient.discovery import build\n",
        "drive_service = build('drive', 'v3')\n",
        "from googleapiclient.http import MediaFileUpload"
      ]
    },
    {
      "cell_type": "code",
      "source": [
        "from google.colab import drive\n",
        "drive.mount('/content/drive')"
      ],
      "metadata": {
        "colab": {
          "base_uri": "https://localhost:8080/"
        },
        "id": "aem4AIsMmer-",
        "outputId": "1dc66028-d2c1-4773-dbe7-40046af57ff1"
      },
      "execution_count": null,
      "outputs": [
        {
          "output_type": "stream",
          "name": "stdout",
          "text": [
            "Mounted at /content/drive\n"
          ]
        }
      ]
    },
    {
      "cell_type": "code",
      "source": [
        "# Bibliotecas\n",
        "import os\n",
        "import glob\n",
        "import re"
      ],
      "metadata": {
        "id": "M3pzKUahbqmN"
      },
      "execution_count": null,
      "outputs": []
    },
    {
      "cell_type": "code",
      "source": [
        "# Biblioteca pdfplumber\n",
        "!pip install pdfplumber -q\n",
        "import pdfplumber"
      ],
      "metadata": {
        "colab": {
          "base_uri": "https://localhost:8080/"
        },
        "id": "KJYbJq5xHwd_",
        "outputId": "07e8aa85-4f6e-4905-f3d4-e14f285bfbf5"
      },
      "execution_count": null,
      "outputs": [
        {
          "output_type": "stream",
          "name": "stdout",
          "text": [
            "\u001b[2K     \u001b[90m━━━━━━━━━━━━━━━━━━━━━━━━━━━━━━━━━━━━━━━━\u001b[0m \u001b[32m43.9/43.9 KB\u001b[0m \u001b[31m3.5 MB/s\u001b[0m eta \u001b[36m0:00:00\u001b[0m\n",
            "\u001b[2K     \u001b[90m━━━━━━━━━━━━━━━━━━━━━━━━━━━━━━━━━━━━━━━━\u001b[0m \u001b[32m5.6/5.6 MB\u001b[0m \u001b[31m72.1 MB/s\u001b[0m eta \u001b[36m0:00:00\u001b[0m\n",
            "\u001b[2K     \u001b[90m━━━━━━━━━━━━━━━━━━━━━━━━━━━━━━━━━━━━━━━━\u001b[0m \u001b[32m3.4/3.4 MB\u001b[0m \u001b[31m91.5 MB/s\u001b[0m eta \u001b[36m0:00:00\u001b[0m\n",
            "\u001b[2K     \u001b[90m━━━━━━━━━━━━━━━━━━━━━━━━━━━━━━━━━━━━━━\u001b[0m \u001b[32m143.6/143.6 KB\u001b[0m \u001b[31m15.8 MB/s\u001b[0m eta \u001b[36m0:00:00\u001b[0m\n",
            "\u001b[?25h"
          ]
        }
      ]
    },
    {
      "cell_type": "code",
      "source": [
        "# Opcional\n",
        "# mudar para diretório com pdfs da semana\n",
        "os.chdir(\"/content/drive/MyDrive/Projeto_PIBIC_Lucas/01_Data/Relatórios de referência/Downloads\")\n",
        "# checar se estou no diretório correto\n",
        "os.getcwd()"
      ],
      "metadata": {
        "id": "XzQ3OmXzFTdr"
      },
      "execution_count": null,
      "outputs": []
    },
    {
      "cell_type": "code",
      "source": [
        "# Definição das pastas de origem e destino dos arquivos\n",
        "origem = '/content/drive/MyDrive/drive-download'\n",
        "destino = '/content/drive/MyDrive/Projeto_PIBIC_Lucas/01_Data/Textos_extraidos'"
      ],
      "metadata": {
        "id": "_OhxGhBLFOhi"
      },
      "execution_count": null,
      "outputs": []
    },
    {
      "cell_type": "code",
      "source": [
        "# Definir o padrão de pesquisa com expressões regulares\n",
        "pattern = re.compile(r\"(?<=Atividades do emissor).*?(?=Negócios extraordinários)\", re.DOTALL)"
      ],
      "metadata": {
        "id": "z9H0wbv8T_LJ"
      },
      "execution_count": null,
      "outputs": []
    },
    {
      "cell_type": "code",
      "source": [
        "# Definir o número máximo de arquivos a serem processados\n",
        "num_max_arquivos = 590\n",
        "\n",
        "# Iterar sobre a pasta de origem\n",
        "for i, file in enumerate(glob.glob(origem + \"/*.pdf\")):\n",
        "    if i == num_max_arquivos:\n",
        "        break\n",
        "\n",
        "    # Abrir cada PDF na pasta de origem\n",
        "    with pdfplumber.open(file) as pdf_file:\n",
        "\n",
        "        # Extrair todo o texto do PDF a partir da página 6\n",
        "        text = \"\"\n",
        "        for page in pdf_file.pages[5:]:\n",
        "            text += page.extract_text()\n",
        "\n",
        "        # Remover o cabeçalho manualmente das primeiras 3 linhas\n",
        "        text = \"\\n\".join(text.split(\"\\n\")[3:])\n",
        "\n",
        "        # Pesquisar o padrão de pesquisa no texto\n",
        "        pesquisa = pattern.search(text)\n",
        "\n",
        "        # Se encontrou o padrão de pesquisa\n",
        "        if pesquisa:\n",
        "            # Extrair o texto correspondente ao padrão\n",
        "            session_text = pesquisa.group(0).strip()\n",
        "\n",
        "            # Converter cada arquivo pdf para arquivos de texto .txt\n",
        "            txt_filename = os.path.splitext(os.path.basename(file))[0] + \".txt\"\n",
        "            txt_filepath = os.path.join(destino, txt_filename)\n",
        "            with open(txt_filepath, 'w', encoding='utf-8') as txt_file:\n",
        "                txt_file.write(session_text)"
      ],
      "metadata": {
        "id": "6IDUa4WVTh1q"
      },
      "execution_count": null,
      "outputs": []
    },
    {
      "cell_type": "code",
      "source": [
        "os.chdir(\"/content/drive/MyDrive/Projeto_PIBIC_Lucas/01_Data/Relatórios de referência/Downloads\")\n",
        "lista_origem = os.listdir(origem)\n",
        "lista_origem.sort()\n",
        "\n",
        "with open(\"lista_origem.txt\", \"w\") as f:\n",
        "    for arquivo in lista_origem:\n",
        "        f.write(arquivo + \"\\n\")\n",
        "\n",
        "print(lista_origem)\n",
        "print(\"Foram encontrados\", len(lista_origem), \"documentos.\")"
      ],
      "metadata": {
        "id": "v4D8yxiao9Ts",
        "colab": {
          "base_uri": "https://localhost:8080/"
        },
        "outputId": "2e230768-3df3-4125-942a-60b918c8a632"
      },
      "execution_count": null,
      "outputs": [
        {
          "output_type": "stream",
          "name": "stdout",
          "text": [
            "['521 PARTICIP.pdf', '524 PARTICIP.pdf', 'ABC BRASIL.pdf', 'ABRIL EDUCA.pdf', 'ADVANCED-DH.pdf', 'AES ELPA.pdf', 'AES SUL.pdf', 'AES TIETE E.pdf', 'AETATIS PART.pdf', 'AFLUENTE T.pdf', 'AFLUENTE.pdf', 'AGCONCESSOES.pdf', 'AGRENCO.pdf', 'ALFA HOLDING.pdf', 'ALFA INVEST.pdf', 'ALGAR TELEC.pdf', 'ALIPERTI.pdf', 'ALIUM PART.pdf', 'ALL NORTE.pdf', 'ALL PAULISTA.pdf', 'ALLIS PART.pdf', 'ALPARGATAS.pdf', 'ALTERE SEC.pdf', 'AMAZONIA.pdf', 'AMBEV.pdf', 'AMERICANAS.pdf', 'AMERICEL.pdf', 'AMIL.pdf', 'AMPLA ENERG.pdf', 'AMPLA INVEST.pdf', 'ANHANGUERA.pdf', 'AQUILLA SEC.pdf', 'ARAUCARIA.pdf', 'AREZZO CO.pdf', 'ARTERIS.pdf', 'ATMASA.pdf', 'ATOMPAR.pdf', 'AUTOBAN.pdf', 'AUTOMETAL.pdf', 'AUTOPISTA FE.pdf', 'AUTOVIAS.pdf', 'AZEVEDO.pdf', 'Alper S.A.pdf', 'Alupar.pdf', 'B TECH EQI.pdf', 'B3.pdf', 'BAESA.pdf', 'BAHEMA.pdf', 'BANCO PAN.pdf', 'BANESE.pdf', 'BANESTES.pdf', 'BANPARA.pdf', 'BANRISUL.pdf', 'BARDELLA.pdf', 'BARIGUI SEC.pdf', 'BASEL.pdf', 'BAUMER.pdf', 'BELAPART.pdf', 'BEMATECH.pdf', 'BERNA.pdf', 'BETA SECURIT.pdf', 'BETAPART.pdf', 'BFB LEASING.pdf', 'BGPAR.pdf', 'BHG.pdf', 'BIC MONARK.pdf', 'BICBANCO.pdf', 'BICLEASING.pdf', 'BIOMM.pdf', 'BNDESPAR.pdf', 'BOMBRIL HLD.pdf', 'BOMBRIL.pdf', 'BONAIRE PART.pdf', 'BR MALLS PAR.pdf', 'BR PROPERT.pdf', 'BRADESCO LSG.pdf', 'BRADESCO.pdf', 'BRADESPAR.pdf', 'BRASIL PLURA.pdf', 'BRASIL.pdf', 'BRASILAGRO.pdf', 'BRASKEM.pdf', 'BRASMOTOR.pdf', 'BRAZIL REALT.pdf', 'BRAZILIAN SC.pdf', 'BRB BANCO.pdf', 'BRC SECURIT.pdf', 'BRF SA.pdf', 'BROOKFIELD.pdf', 'BRPR 52 SEC.pdf', 'BRPR 55 SEC.pdf', 'BRPR 56 SEC.pdf', 'BRT HOLDING.pdf', 'BRZ INVEST.pdf', 'BTG PACT SEC.pdf', 'BTG Pactual.pdf', 'BTGP BANCO.pdf', 'BV LEASING.pdf', 'CABAMBIENTAL.pdf', 'CABINDA PART.pdf', 'CACHOEIRA.pdf', 'CACIQUE.pdf', 'CACONDE PART.pdf', 'CAF BRASILIA.pdf', 'CAGECE.pdf', 'CAIANDA PART.pdf', 'CAMBUCI.pdf', 'CANTAROS PAR.pdf', 'CAPITALPART.pdf', 'CASAN.pdf', 'CC DES IMOB.pdf', 'CCR SA.pdf', 'CCX CARVAO.pdf', 'CEB.pdf', 'CEDAE.pdf', 'CEDRO.pdf', 'CEEE-D.pdf', 'CEEE-T.pdf', 'CEG.pdf', 'CELESC.pdf', 'CELGPAR.pdf', 'CELPE.pdf', 'CEMEPE.pdf', 'CEMIG DIST.pdf', 'CEMIG GT.pdf', 'CEMIG TELEC.pdf', 'CEMIG.pdf', 'CENT ACU.pdf', 'CENT CORUMBA.pdf', 'CENT MIN-RIO.pdf', 'CENTROVIAS.pdf', 'CESP.pdf', 'CETIP.pdf', 'CHIARELLI.pdf', 'CIA HERING.pdf', 'CIA TRANSMISSÃO ENERGIA ELÉTRICA PAULISTA.pdf', 'CIBRASEC.pdf', 'CIELO.pdf', 'CIMS.pdf', 'CLARION.pdf', 'COARI PART.pdf', 'COBRASMA.pdf', 'COELBA.pdf', 'COELCE.pdf', 'COGNA ON.pdf', 'COMGAS.pdf', 'COMPANY.pdf', 'CONC RAPOSO.pdf', 'CONC RIO TER.pdf', 'CONCEPA.pdf', 'CONFAB.txt', 'CONFIANZA.pdf', 'CONSERVAS ODERICH.pdf', 'CONSORCIO ALFA DE ADMINISTRACAO.pdf', 'CONST LIX DA CUNHA SA.pdf', 'CONSTRUTORA ADOLPHO LINDENBERG.pdf', 'CONSTRUTORA SULTEPA.pdf', 'CONSTRUTORA TENDA.pdf', 'COPACABANA PRINCE PARTICIPAÇÕES.pdf', 'COPASA.pdf', 'COPEL.pdf', 'COPERSUCAR.pdf', 'CORREA RIBEIRO.pdf', 'COSAN LIMITED.pdf', 'COSAN S.A..pdf', 'COSERN.pdf', 'COSTA PINTO SA.pdf', 'COTEMINAS.pdf', 'CPFL ENERGIA S.A..pdf', 'CPFL ENERGIAS RENOVÁVEIS S.A..pdf', 'CPFL GERACAO DE ENERGIA S.A..pdf', 'CPFL PIRATIN.pdf', 'CR2 EMPREENDIMENTOS IMOBILIARIOS S.A..pdf', 'CREMER SA.pdf', 'CRISTAL.pdf', 'CRSEC.pdf', 'CRUZEIRO SUL.pdf', 'CSU DIGITAL S.A..pdf', 'CTX PARTICIPAÇÕES SA.pdf', 'CYRELA BRAZIL REALTY S.A.EMPREEND E PART.pdf', 'Creditaqui Financeira S.A. - C.F.I..pdf', 'DALETH PARTICIPAÇÕES SA.pdf', 'DAYCOVAL.pdf', 'DEXCO S.A..pdf', 'DEXXOS PARTICIPAÇÕES S.A..pdf', 'DHB IND E COMERCIO SA.pdf', 'DIAGNOSTICOS DA AMERICA S.A..pdf', 'DIBENS LEASING S.A. - ARREND.MERCANTIL.pdf', 'DIMED S.A. DISTRIBUIDORA DE MEDICAMENTOS.pdf', 'DINAMICA ENERGIA S.A..pdf', 'DIRECIONAL ENGENHARIA S.A..pdf', 'DIXIE TOGA SA.pdf', 'DM FINANCEIRA S.A. – CRÉDITO, FINANCIAMENTO E INVESTIMENTO.pdf', 'DOC IMBITUBA.pdf', 'DOCAS INVESTIMENTOS SA.pdf', 'DOHLER S.A..pdf', 'DOMMO EMPREENDIMENTOS IMOBILIÁRIOS S.A.pdf', 'DTCOM - DIRECT TO COMPANY S.A..pdf', 'DUFRY AG.pdf', 'DUXXI IMOBILIÁRIA S.A..pdf', 'EBX BRASIL S.A..pdf', 'ECOPISTAS.pdf', 'ECORODOVIAS CONCESSÕES E SERVIÇOS S.A..pdf', 'ECORODOVIAS INFRAESTRUTURA E LOGÍSTICA S.A..pdf', 'ECOVIAS.pdf', 'EDP - ENERGIAS DO BRASIL S.A..pdf', 'EDP ESPIRITO SANTO DISTRIBUIÇÃO DE ENERGIA S.A..pdf', 'EDP SÃO PAULO DISTRIBUIÇÃO DE ENERGIA S.A..pdf', 'ELECTRO ACO ALTONA S.A..pdf', 'ELEKEIROZ S.A..pdf', 'ELEKTRO REDES S.A..pdf', 'ELETROBRAS.pdf', 'ELETROBRÁS PARTICIPAÇÕES S.A. - ELETROPAR.pdf', 'ELETRON SA.pdf', 'ELETROPAULO METROP. ELET. SAO PAULO S.A..pdf', 'EMAE - EMPRESA METROP.AGUAS ENERGIA S.A..pdf', 'EMBPAR PARTICIPAÇÕES SA.pdf', 'EMBRAER S.A..pdf', 'EMBRATEL PARTICIPAÇÕES SA.pdf', 'EMPREENDIMENTOS PAGUE MENOS S.A..pdf', 'EMPRESA CONC RODOV DO NORTE S.A.ECONORTE.pdf', 'EMPRESA NAC COM REDITO PART S.A.ENCORPAR.pdf', 'ENAUTA PARTICIPAÇÕES S.A..pdf', 'ENERGISA MATO GROSSO DO SUL - DIST DE ENERGIA S.A..pdf', 'ENERGISA MATO GROSSO-DISTRIBUIDORA DE ENERGIA SA.pdf', 'ENERGISA S.A..pdf', 'ENERGISA SERGIPE - DISTRIBUIDORA DE ENERGIA SA.pdf', 'ENEVA S.A.pdf', 'ENGIE BRASIL ENERGIA S.A..pdf', 'EQUATORIAL ENERGIA S.A..pdf', 'EQUATORIAL MARANHÃO DISTRIBUIDORA DE ENERGIA S.A..pdf', 'EQUATORIAL PARÁ DISTRIBUIDORA DE ENERGIA S.A..pdf', 'ETERNIT S.A. - Em Recuperação Judicial.pdf', 'EUCATEX S.A. INDUSTRIA E COMERCIO.pdf', 'EVEN CONSTRUTORA E INCORPORADORA S.A..pdf', 'EXCELSIOR ALIMENTOS S.A..pdf', 'EZ TEC EMPREEND. E PARTICIPACOES S.A..pdf', 'Edital-01-22-Cronograma.pdf', 'Edital-02-22-EM-Cronograma.pdf', 'ÉVORA SA.pdf', 'F SUL ATLANT.pdf', 'FAB TECIDOS CARLOS RENAUX SA.pdf', 'FERBASA.pdf', 'FERROVIA CENTRO-ATLANTICA S.A..pdf', 'FERTILIZANTES HERINGER S.A..pdf', 'FIACAO E TECELAGEM SAO JOSE SA EM RECUPERACAO JUDICIAL.pdf', 'FIBAM CIA INDUSTRIAL.pdf', 'FIBRA CIA SECURITIZADORA CRED IMOB.pdf', 'FIBRIA CELULOSE S.A..pdf', 'FIDES SEC.pdf', 'FINANCEIRA ALFA S.A.- CRED FINANC E INVS.pdf', 'FLEURY S.A..pdf', 'FORPART S.A. - EM LIQUIDAÇÃO.pdf', 'FORTE SECURITIZADORA S.A..pdf', 'FR-AUTOLSUL.pdf', 'FR-RIOGRANDE.pdf', 'FRAS-LE S.A..pdf', 'FUTURETEL S.A. - EM LIQUIDAÇÃO.pdf', 'GAFISA S.A..pdf', 'GAIA SECURIT.pdf', 'GAMA PARTICIPACOES S.A..pdf', 'GAZOLA SA INDÚSTRIA METALURGICA.pdf', 'GENERAL SHOPPING E OUTLETS DO BRASIL BRASIL S.A..pdf', 'GER PARANAP.pdf', 'GER TIETE.pdf', 'GERDAU S.A..pdf', 'GOIAS SANEAM.pdf', 'GOL LINHAS AEREAS INTELIGENTES S.A..pdf', 'GP INVESTMENTS, LTD..pdf', 'GRAZZIOTIN S.A..pdf', 'GRENDENE S.A..pdf', 'GRUÇAI PARTICIPAÇÕES SA.pdf', 'GTD PARTICIPACOES SA.pdf', 'GUARARAPES CONFECCOES S.A..pdf', 'HABITASEC SECURITIZADORA SA.pdf', 'HABITASUL.pdf', 'HAGA S.A. INDUSTRIA E COMERCIO.pdf', 'HARPIA ÔMEGA PARTICIPAÇÕES S.A..pdf', 'HAUSCENTER SA.pdf', 'HELBOR EMPREENDIMENTOS S.A..pdf', 'HERCULES S.A. FABRICA DE TALHERES.pdf', 'HIDROVIAS DO BRASIL S.A..pdf', 'HOPI HARI SA.pdf', 'HOTEIS OTHON S.A. - EM RECUPERAÇÃO JUDICIAL.pdf', 'HYPERA S.A..pdf', 'IGARATINGA.pdf', 'IGB ELETRONICA S.A - EM RECUPERACAO JUDICIAL.pdf', 'IGUACU CAFE.pdf', 'IGUATEMI EMPRESA DE SHOPPING CENTERS S.A.pdf', 'IGUATEMI S.A..pdf', 'IMIGRANTES.pdf', 'INBRANDS S.A..pdf', 'IND CATAGUAS.pdf', 'INDUSVAL.pdf', 'INEPAR ENERGIA SA.pdf', 'INEPAR S.A. INDUSTRIA E CONSTRUCOES.pdf', 'INFRASEC SECURITIZADORA S.A.pdf', 'INNCORP S.A.pdf', 'INTERCEMENT BRASIL S.A.pdf', 'INTERI PAULI.pdf', 'INTERNATIONAL MEAL COMPANY HOLDINGS SA.pdf', 'INVEPAR.pdf', 'INVESTCO S.A.pdf', 'INVESTIMENTOS BEMGE S.A.pdf', 'INVITEL LEGACY S.A.pdf', 'IOCHPE MAXION S.A.pdf', 'IRANI PAPEL E EMBALAGEM S.A.pdf', 'ISEC.pdf', 'ITAITINGA PARTICIPACOES SA.pdf', 'ITAPEBI GERACAO DE ENERGIA S.A.pdf', 'ITAU UNIBANCO HOLDING S.A.pdf', 'ITAUSEG PARTICIPAÇÕES SA.pdf', 'ITAUTEC S.A. - GRUPO ITAUTEC.pdf', 'ITAÚSA S.A.pdf', 'J. MACEDO S.A.pdf', 'JBS S.A.pdf', 'JHSF PARTICIPACOES S.A.pdf', 'JOAO FORTES ENGENHARIA S.A.pdf', 'JOSAPAR-JOAQUIM OLIVEIRA S.A.pdf', 'JPSP INVESTIMENTOS E PARTICIPAÇÕES S.A.pdf', 'JSL S.A.pdf', 'KAROON PETRÓLEO & GÁS SA.pdf', 'KARSTEN S.A..pdf', 'KEPLER WEBER S.A..pdf', 'KLABIN S.A..pdf', 'LAEP INVESTMENTS LTD.pdf', 'LARK SA MAQ E EQUIPAMENTOS.pdf', 'LF TEL SA.pdf', 'LIGA FUTEBOL SA.pdf', 'LIGHT S.A..pdf', 'LIGHT SERVICOS DE ELETRICIDADE S.A..pdf', 'LITEL PARTICIPACOES S.A..pdf', 'LLX LOG.pdf', 'LOCALIZA RENT A CAR S.A..pdf', 'LOG-IN LOGISTICA INTERMODAL S.A..pdf', 'LOJAS AMERICANAS S.A..pdf', 'LOJAS HERING SA.pdf', 'LOJAS RENNER S.A..pdf', 'LONGDIS S.A..pdf', 'LPS BRASIL - CONSULTORIA DE IMOVEIS S.A..pdf', 'LUPATECH S.A. - EM RECUPERAÇÃO JUDICIAL.pdf', 'Locamérica Rent-a-Car S.A..pdf', 'M&G POLIÉSTER SA.pdf', 'M.DIAS BRANCO S.A. IND COM DE ALIMENTOS.pdf', 'MAGAZINE LUIZA S.A.pdf', 'MAGNESITA REFRATARIOS S.A..pdf', 'MAHLE-METAL LEVE S.A..pdf', 'MANGELS INDUSTRIAL S.A..pdf', 'MANUFATURA DE BRINQUEDOS ESTRELA S.A..pdf', 'MAORI SA.pdf', 'MARCOPOLO S.A..pdf', 'MARFRIG GLOBAL FOODS S.A..pdf', 'MARISA LOJAS S.A..pdf', 'MARISOL SA.pdf', 'MASSA FALIDA DA BRASIL PHARMA S.A..pdf', 'MATONE SECURITIZADORA SA.pdf', 'MCM CIMENTOS SA.pdf', 'MELHOR SP.pdf', 'MENDES JUNIOR ENGENHARIA S.A..pdf', 'MENEZES CORT.pdf', 'MERC BRASIL.pdf', 'MERC INVEST.pdf', 'METALFRIO SOLUTIONS S.A..pdf', 'METALGRAFICA IGUACU S.A..pdf', 'METALURGICA DUQUE SA.pdf', 'METALURGICA GERDAU S.A..pdf', 'METALURGICA RIOSULENSE S.A..pdf', 'METISA METALURGICA TIMBOENSE S.A..pdf', 'METROV RJ.pdf', 'MILLS LOCAÇÃO, SERVIÇOS E LOGÍSTICA S.A..pdf', 'MINASMAQUINAS S.A..pdf', 'MINERVA S.A..pdf', 'MINUPAR PARTICIPACOES S.A..pdf', 'MLOG S.A..pdf', 'MMX MINERACAO E METALICOS S.A. - EM RECUPERAÇÃO JUDICIAL.pdf', 'MONTEIRO ARANHA S.A..pdf', 'MONTICIANO PARTICIPAÇÕES SA.pdf', 'MOURA DUBEUX ENGENHARIA SA.pdf', 'MRS LOGISTICA S.A..pdf', 'MRV ENGENHARIA E PARTICIPACOES S.A..pdf', 'MULTIPLAN.pdf', 'MULTIPLUS.pdf', 'MUNDIAL S.A.pdf', 'NADIR FIGUEIREDO IND E COM S.A..pdf', 'NANTES PART.pdf', 'NAOMI PARTICIPAÇÕES S.A.pdf', 'NATURA COSMETICOS.pdf', 'NEOENERGIA.pdf', 'NET SERVIÇOS DE COMUNICAÇÃO.pdf', 'NEUMARKT.pdf', 'NEWTEL.pdf', 'NISA.pdf', 'NOAH.pdf', 'NORD BRASIL.pdf', 'NORDON INDUSTRIAS METALURGICAS.pdf', 'NOVA ACAO.pdf', 'NOVA SECURIT.pdf', 'NOVADUTRA.pdf', 'NUTRIPLANT.pdf', 'Nexp.pdf', 'ODONTOPREV.pdf', 'OI.pdf', 'ONEPROPERTIE.pdf', 'OPPORT ENERG.pdf', 'OPPORT RET.pdf', 'OSX BRASIL.pdf', 'OURINVESTSEC.pdf', 'P.ACUCAR-CBD.pdf', 'PACIFIC RUB.pdf', 'PADTEC.pdf', 'PANATLANTICA.pdf', 'PAR AL BAHIA.pdf', 'PARANA.pdf', 'PARANAPANEMA.pdf', 'PARCOM PART.pdf', 'PATAGONIA.pdf', 'PAUL F LUZ.pdf', 'PDG REALT.pdf', 'PDG SECURIT.pdf', 'PERENCO OGBR.pdf', 'PET MANGUINH.pdf', 'PETROBRAS.pdf', 'PETRORIO.pdf', 'PETTENATI.pdf', 'PINE.pdf', 'PLASCAR PART.pdf', 'POLPAR.pdf', 'POMIFRUTAS.pdf', 'PORCAO.pdf', 'PORTO PONTA DO FELIX SA.pdf', 'PORTO SEGURO S.A.pdf', 'PORTOBELLO.pdf', 'PORTX OPERAÇÕES PORTUÁRIAS S.A..pdf', 'POSITIVO TECNOLOGIA S.A..pdf', 'PRIVATINVEST PARTICIPAÇÕES SA.pdf', 'PROFARMA.pdf', 'PROMAN.pdf', 'PROMPT PART.pdf', 'PRONOR.pdf', 'PROVIDENCIA.pdf', 'PROVINCIA.pdf', 'PRÓ METALURGIA SA.pdf', 'QGN PARTIC.pdf', 'QUALICORP.pdf', 'QUATTOR PETR.pdf', 'RAIA.pdf', 'RAIADROGASIL.pdf', 'RANDON PART.pdf', 'RASIP AGRO.pdf', 'RBCAPITALRES.pdf', 'RBCAPITALSEC.pdf', 'RECRUSUL.pdf', 'REDE ENERGIA.pdf', 'REDECARD.pdf', 'REDENTOR.pdf', 'RENOVA.pdf', 'RIMET.pdf', 'RIO GDE ENER.pdf', 'RJCP.pdf', 'RNI.pdf', 'RODONORTE IN.pdf', 'ROMI.pdf', 'ROSSI RESID.pdf', 'RT BANDEIRAS.pdf', 'RUMO S.A..pdf', 'SABESP.pdf', 'SAFRA LEAS.pdf', 'SANEPAR.pdf', 'SANESALTO.pdf', 'SANTANDER BR.pdf', 'SANTANDER LS.pdf', 'SANTANENSE.pdf', 'SANTHER.pdf', 'SANTOS BRAS.pdf', 'SANTOS BRP.pdf', 'SAO CARLOS.pdf', 'SAO MARTINHO.pdf', 'SARAIVA LIVR.pdf', 'SAUIPE.pdf', 'SCHLOSSER.pdf', 'SCHULZ.pdf', 'SEB.pdf', 'SEG AL BAHIA.pdf', 'SERGEN.pdf', 'SETIBA PART.pdf', 'SID NACIONAL.pdf', 'SLC AGRICOLA.pdf', 'SNB PARTICIP.pdf', 'SOFISA.pdf', 'SOLVAYINDUPA.pdf', 'SONDOTECNICA.pdf', 'SOUZA CRUZ.pdf', 'SPRINGER.pdf', 'SPRINGS.pdf', 'SPTURIS.pdf', 'STATKRAFT.pdf', 'SUBESTAÇÃO ELETROMETRÔ SA.pdf', 'SUDESTE S.A.pdf', 'SUL 116 PARTICIPACOES S.A..pdf', 'SUL AMERICA S.A..pdf', 'SUZANO HOLDING S.A..pdf', 'SUZANO S.A..pdf', 'SYN PROP & TECH S.A.pdf', 'T4F ENTRETENIMENTO S.A..pdf', 'TACARUNA.pdf', 'TAESA.pdf', 'TAIPE TRANCOSO EMPREENDIMENTOS SA.pdf', 'TAM S.A..pdf', 'TARPON INVESTIMENTOS SA.pdf', 'TAURUS ARMAS S.A..pdf', 'TC SECURITIES CIA DE SECURITIZAÇÃO.pdf', 'TEC TOY SA.pdf', 'TECBLU TECELAGEM BLUMENAU S.A..pdf', 'TECHNOS S.A..pdf', 'TECNISA S.A.pdf', 'TECNOSOLO ENGENHARIA S.A.pdf', 'TEGMA GESTAO LOGISTICA S.A..pdf', 'TEKA-TECELAGEM KUEHNRICH S.A..pdf', 'TEKNO S.A. - INDUSTRIA E COMERCIO.pdf', 'TELE NORTE CELULAR PARTICIPAÇÕES SA.pdf', 'TELE NORTE LESTE PARTICIPAÇÕES SA.pdf', 'TELEC BRASILEIRAS S.A. TELEBRAS.pdf', 'TELEFÓNICA, S.A..pdf', 'TELEFÔNICA BRASIL S.A.pdf', 'TELEMAR NORTE LESTE SA.pdf', 'TELEMAR PARTICIPAÇÕES SA.pdf', 'TELINVEST SA.pdf', 'TEREOS.pdf', 'TERMOPE.pdf', 'TERRA SANTA.pdf', 'TEX RENAUX.pdf', 'TFA SECURIT.pdf', 'TGLT.pdf', 'TIM PART SA.pdf', 'TOTVS.pdf', 'TREVISA.pdf', 'TRISUL.pdf', 'TRIUNFO PART.pdf', 'TRUESEC.pdf', 'TRX SECURIT.pdf', 'TUPY.pdf', 'ULTRAPAR.pdf', 'UNI CIDADE.pdf', 'UNIPAR.pdf', 'UNIVERCIDADE.pdf', 'UOL.pdf', 'UPTICK.pdf', 'USIMINAS.pdf', 'VALE.pdf', 'VALEFERT.pdf', 'VALETRON.pdf', 'VALID.pdf', 'VBC ENERGIA.pdf', 'VESTE.pdf', 'VIA.pdf', 'VIAOESTE.pdf', 'VIARONDON.pdf', 'VICUNHA SID.pdf', 'VICUNHA TEXT.pdf', 'VISION SEC.pdf', 'VIVER.pdf', 'VIVO.pdf', 'VIX LOGÍSTICA SA.pdf', 'VULCABRAS S.A..pdf', 'WEG S.A..pdf', 'WEMBLEY SOCIEDADE ANÔNIMA.pdf', 'WETZEL S.A..pdf', 'WHIRLPOOL S.A..pdf', 'WIEST SA.pdf', 'WILSON SONS LTD..pdf', 'WLM PART. E COMÉRCIO DE MÁQUINAS E VEÍCULOS S.A..pdf', 'WT CRJ.pdf', 'WT NSBC.pdf', 'WT SECURIT.pdf', 'WT TC.pdf', 'WTC RIO EMPREEND. E PARTICIPAÇÕES S.A..pdf', 'WTORRE PIC.pdf', 'XX DE NOVEMBRO INVESTIMENTOS E PARTICIPAÇÕES S.A..pdf', 'YARA BRASIL FERTILIZANTES.pdf', 'YBYRÁ S.A..pdf', 'YDUQS PARTICIPACOES S.A..pdf', 'ZAIN PARTICIPACOES S.A..pdf']\n",
            "Foram encontrados 582 documentos.\n"
          ]
        }
      ]
    },
    {
      "cell_type": "code",
      "source": [
        "os.chdir(\"/content/drive/MyDrive/Projeto_PIBIC_Lucas/01_Data/Textos_extraidos\")\n",
        "lista_destino = os.listdir(destino)\n",
        "lista_destino.sort()\n",
        "\n",
        "with open(\"lista_destino.txt\", \"w\") as f:\n",
        "    for arquivo in lista_destino:\n",
        "        f.write(arquivo + \"\\n\")\n",
        "\n",
        "print(lista_destino)\n",
        "print(\"Foram encontrados\", len(lista_destino), \"documentos.\")"
      ],
      "metadata": {
        "id": "WXQG65mkrCrK"
      },
      "execution_count": null,
      "outputs": []
    }
  ]
}